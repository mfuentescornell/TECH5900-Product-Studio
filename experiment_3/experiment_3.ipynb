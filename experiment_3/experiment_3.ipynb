{
 "cells": [
  {
   "cell_type": "markdown",
   "metadata": {},
   "source": [
    "# Risk 3:\n",
    "Even though we aim to de-identify sensitive disease data, since we are focusing on rare diseases it might be possible to cross reference other data sources to re-identify the data, or even reconstruct specific data about an individual given just aggregate statistics.\n",
    "\n",
    "## Experiment Description:\n",
    "We would like to determine what data features need to be removed in order to effectively eliminate the risk of re-identifying data, while still enabling effective data analysis. The first step is to simulate a dataset of fully identified rare disease data. We have to simulate this data due to time constraints of the semester and legal issues of acquiring identified health data. Next step is to develop a model to predict the disease type from the data. We will use this model to assess if we can still derive insights from the data when we de-identify the dataset. Next step is to remove features and add noise to the data. There are researched methods to add noise to the data in an optimal way to prevent re-identification. Given the updated dataset, we will attempt to cross reference the original census data to identify each patient’s name and location, and run the predictive model to see if accuracy drops a significant amount. This experiment is essentially testing ways to implement differential privacy on our healthcare data.\n",
    "\n",
    "Differential privacy is a rigorous mathematical definition of privacy. In the simplest setting, consider an algorithm that analyzes a dataset and computes statistics about it (such as the data's mean, variance, median, mode, etc.). Such an algorithm is said to be differentially private if by looking at the output, one cannot tell whether any individual's data was included in the original dataset or not. In other words, the guarantee of a differentially private algorithm is that its behavior hardly changes when a single individual joins or leaves the dataset -- anything the algorithm might output on a database containing some individual's information is almost as likely to have come from a database without that individual's information. Most notably, this guarantee holds for any individual and any dataset. Therefore, regardless of how eccentric any single individual's details are, and regardless of the details of anyone else in the database, the guarantee of differential privacy still holds. This gives a formal guarantee that individual-level information about participants in the database is not leaked. (https://privacytools.seas.harvard.edu/differential-privacy)"
   ]
  },
  {
   "cell_type": "code",
   "execution_count": 137,
   "metadata": {},
   "outputs": [],
   "source": [
    "import pandas as pd\n",
    "import numpy as np\n",
    "import matplotlib.pyplot as plt\n",
    "import seaborn as sns"
   ]
  },
  {
   "cell_type": "markdown",
   "metadata": {},
   "source": [
    "## Part 1 - Prepare data:\n",
    "We start by loading the first 10000 rows of our simulated health database."
   ]
  },
  {
   "cell_type": "code",
   "execution_count": 141,
   "metadata": {},
   "outputs": [],
   "source": [
    "db = pd.read_csv('data/health_database.csv').iloc[:10000] # load our simulated dataset, only first 10000\n",
    "crossref_db = pd.read_csv('data/crossref_database.csv')"
   ]
  },
  {
   "cell_type": "code",
   "execution_count": 4,
   "metadata": {},
   "outputs": [
    {
     "data": {
      "text/html": [
       "<div>\n",
       "<style scoped>\n",
       "    .dataframe tbody tr th:only-of-type {\n",
       "        vertical-align: middle;\n",
       "    }\n",
       "\n",
       "    .dataframe tbody tr th {\n",
       "        vertical-align: top;\n",
       "    }\n",
       "\n",
       "    .dataframe thead th {\n",
       "        text-align: right;\n",
       "    }\n",
       "</style>\n",
       "<table border=\"1\" class=\"dataframe\">\n",
       "  <thead>\n",
       "    <tr style=\"text-align: right;\">\n",
       "      <th></th>\n",
       "      <th>age</th>\n",
       "      <th>sex</th>\n",
       "      <th>cp</th>\n",
       "      <th>trestbps</th>\n",
       "      <th>chol</th>\n",
       "      <th>fbs</th>\n",
       "      <th>restecg</th>\n",
       "      <th>thalach</th>\n",
       "      <th>exang</th>\n",
       "      <th>oldpeak</th>\n",
       "      <th>slope</th>\n",
       "      <th>ca</th>\n",
       "      <th>thal</th>\n",
       "      <th>name</th>\n",
       "      <th>loc</th>\n",
       "    </tr>\n",
       "  </thead>\n",
       "  <tbody>\n",
       "    <tr>\n",
       "      <th>0</th>\n",
       "      <td>52.0</td>\n",
       "      <td>1.0</td>\n",
       "      <td>0.0</td>\n",
       "      <td>125.0</td>\n",
       "      <td>212.0</td>\n",
       "      <td>0.0</td>\n",
       "      <td>1.0</td>\n",
       "      <td>168.0</td>\n",
       "      <td>0.0</td>\n",
       "      <td>1.0</td>\n",
       "      <td>2.0</td>\n",
       "      <td>2.0</td>\n",
       "      <td>3.0</td>\n",
       "      <td>Todd Mckee</td>\n",
       "      <td>18594 Thomas Plains Suite 308\\nCarlosstad, MN ...</td>\n",
       "    </tr>\n",
       "    <tr>\n",
       "      <th>1</th>\n",
       "      <td>53.0</td>\n",
       "      <td>1.0</td>\n",
       "      <td>0.0</td>\n",
       "      <td>140.0</td>\n",
       "      <td>203.0</td>\n",
       "      <td>1.0</td>\n",
       "      <td>0.0</td>\n",
       "      <td>155.0</td>\n",
       "      <td>1.0</td>\n",
       "      <td>3.1</td>\n",
       "      <td>0.0</td>\n",
       "      <td>0.0</td>\n",
       "      <td>3.0</td>\n",
       "      <td>Robert Edwards</td>\n",
       "      <td>89823 Pierce Fields\\nNorth Jessica, CA 89802</td>\n",
       "    </tr>\n",
       "    <tr>\n",
       "      <th>2</th>\n",
       "      <td>70.0</td>\n",
       "      <td>1.0</td>\n",
       "      <td>0.0</td>\n",
       "      <td>145.0</td>\n",
       "      <td>174.0</td>\n",
       "      <td>0.0</td>\n",
       "      <td>1.0</td>\n",
       "      <td>125.0</td>\n",
       "      <td>1.0</td>\n",
       "      <td>2.6</td>\n",
       "      <td>0.0</td>\n",
       "      <td>0.0</td>\n",
       "      <td>3.0</td>\n",
       "      <td>Juan Orr</td>\n",
       "      <td>5058 Anderson Rest Apt. 213\\nNorth Leeberg, CA...</td>\n",
       "    </tr>\n",
       "    <tr>\n",
       "      <th>3</th>\n",
       "      <td>61.0</td>\n",
       "      <td>1.0</td>\n",
       "      <td>0.0</td>\n",
       "      <td>148.0</td>\n",
       "      <td>203.0</td>\n",
       "      <td>0.0</td>\n",
       "      <td>1.0</td>\n",
       "      <td>161.0</td>\n",
       "      <td>0.0</td>\n",
       "      <td>0.0</td>\n",
       "      <td>2.0</td>\n",
       "      <td>1.0</td>\n",
       "      <td>3.0</td>\n",
       "      <td>Dalton Martinez</td>\n",
       "      <td>9000 Daniels Crescent\\nPort Kari, MD 86141</td>\n",
       "    </tr>\n",
       "    <tr>\n",
       "      <th>4</th>\n",
       "      <td>62.0</td>\n",
       "      <td>0.0</td>\n",
       "      <td>0.0</td>\n",
       "      <td>138.0</td>\n",
       "      <td>294.0</td>\n",
       "      <td>1.0</td>\n",
       "      <td>1.0</td>\n",
       "      <td>106.0</td>\n",
       "      <td>0.0</td>\n",
       "      <td>1.9</td>\n",
       "      <td>1.0</td>\n",
       "      <td>3.0</td>\n",
       "      <td>2.0</td>\n",
       "      <td>Lisa Odom</td>\n",
       "      <td>49017 Matthew Fork\\nWest Zachary, LA 59512</td>\n",
       "    </tr>\n",
       "  </tbody>\n",
       "</table>\n",
       "</div>"
      ],
      "text/plain": [
       "    age  sex   cp  trestbps   chol  fbs  restecg  thalach  exang  oldpeak  \\\n",
       "0  52.0  1.0  0.0     125.0  212.0  0.0      1.0    168.0    0.0      1.0   \n",
       "1  53.0  1.0  0.0     140.0  203.0  1.0      0.0    155.0    1.0      3.1   \n",
       "2  70.0  1.0  0.0     145.0  174.0  0.0      1.0    125.0    1.0      2.6   \n",
       "3  61.0  1.0  0.0     148.0  203.0  0.0      1.0    161.0    0.0      0.0   \n",
       "4  62.0  0.0  0.0     138.0  294.0  1.0      1.0    106.0    0.0      1.9   \n",
       "\n",
       "   slope   ca  thal             name  \\\n",
       "0    2.0  2.0   3.0       Todd Mckee   \n",
       "1    0.0  0.0   3.0   Robert Edwards   \n",
       "2    0.0  0.0   3.0         Juan Orr   \n",
       "3    2.0  1.0   3.0  Dalton Martinez   \n",
       "4    1.0  3.0   2.0        Lisa Odom   \n",
       "\n",
       "                                                 loc  \n",
       "0  18594 Thomas Plains Suite 308\\nCarlosstad, MN ...  \n",
       "1       89823 Pierce Fields\\nNorth Jessica, CA 89802  \n",
       "2  5058 Anderson Rest Apt. 213\\nNorth Leeberg, CA...  \n",
       "3         9000 Daniels Crescent\\nPort Kari, MD 86141  \n",
       "4         49017 Matthew Fork\\nWest Zachary, LA 59512  "
      ]
     },
     "execution_count": 4,
     "metadata": {},
     "output_type": "execute_result"
    }
   ],
   "source": [
    "db.head()"
   ]
  },
  {
   "cell_type": "code",
   "execution_count": 5,
   "metadata": {},
   "outputs": [
    {
     "data": {
      "text/html": [
       "<div>\n",
       "<style scoped>\n",
       "    .dataframe tbody tr th:only-of-type {\n",
       "        vertical-align: middle;\n",
       "    }\n",
       "\n",
       "    .dataframe tbody tr th {\n",
       "        vertical-align: top;\n",
       "    }\n",
       "\n",
       "    .dataframe thead th {\n",
       "        text-align: right;\n",
       "    }\n",
       "</style>\n",
       "<table border=\"1\" class=\"dataframe\">\n",
       "  <thead>\n",
       "    <tr style=\"text-align: right;\">\n",
       "      <th></th>\n",
       "      <th>age</th>\n",
       "      <th>sex</th>\n",
       "      <th>cp</th>\n",
       "      <th>trestbps</th>\n",
       "      <th>chol</th>\n",
       "      <th>fbs</th>\n",
       "      <th>restecg</th>\n",
       "      <th>thalach</th>\n",
       "      <th>exang</th>\n",
       "      <th>oldpeak</th>\n",
       "      <th>slope</th>\n",
       "      <th>ca</th>\n",
       "      <th>thal</th>\n",
       "    </tr>\n",
       "  </thead>\n",
       "  <tbody>\n",
       "    <tr>\n",
       "      <th>count</th>\n",
       "      <td>10000.000000</td>\n",
       "      <td>10000.000000</td>\n",
       "      <td>10000.000000</td>\n",
       "      <td>10000.000000</td>\n",
       "      <td>10000.000000</td>\n",
       "      <td>10000.000000</td>\n",
       "      <td>10000.000000</td>\n",
       "      <td>10000.000000</td>\n",
       "      <td>10000.000000</td>\n",
       "      <td>10000.000000</td>\n",
       "      <td>10000.000000</td>\n",
       "      <td>10000.000000</td>\n",
       "      <td>10000.000000</td>\n",
       "    </tr>\n",
       "    <tr>\n",
       "      <th>mean</th>\n",
       "      <td>54.281300</td>\n",
       "      <td>0.699400</td>\n",
       "      <td>0.951600</td>\n",
       "      <td>132.007000</td>\n",
       "      <td>246.730100</td>\n",
       "      <td>0.145600</td>\n",
       "      <td>0.526300</td>\n",
       "      <td>149.369700</td>\n",
       "      <td>0.334400</td>\n",
       "      <td>1.061910</td>\n",
       "      <td>1.369400</td>\n",
       "      <td>0.768800</td>\n",
       "      <td>2.330100</td>\n",
       "    </tr>\n",
       "    <tr>\n",
       "      <th>std</th>\n",
       "      <td>9.038393</td>\n",
       "      <td>0.458542</td>\n",
       "      <td>1.034294</td>\n",
       "      <td>17.826063</td>\n",
       "      <td>50.907752</td>\n",
       "      <td>0.352722</td>\n",
       "      <td>0.523389</td>\n",
       "      <td>23.195746</td>\n",
       "      <td>0.471804</td>\n",
       "      <td>1.157512</td>\n",
       "      <td>0.614151</td>\n",
       "      <td>1.043961</td>\n",
       "      <td>0.625918</td>\n",
       "    </tr>\n",
       "    <tr>\n",
       "      <th>min</th>\n",
       "      <td>29.000000</td>\n",
       "      <td>0.000000</td>\n",
       "      <td>0.000000</td>\n",
       "      <td>94.000000</td>\n",
       "      <td>126.000000</td>\n",
       "      <td>0.000000</td>\n",
       "      <td>0.000000</td>\n",
       "      <td>71.000000</td>\n",
       "      <td>0.000000</td>\n",
       "      <td>0.000000</td>\n",
       "      <td>0.000000</td>\n",
       "      <td>0.000000</td>\n",
       "      <td>0.000000</td>\n",
       "    </tr>\n",
       "    <tr>\n",
       "      <th>25%</th>\n",
       "      <td>47.000000</td>\n",
       "      <td>0.000000</td>\n",
       "      <td>0.000000</td>\n",
       "      <td>120.000000</td>\n",
       "      <td>212.000000</td>\n",
       "      <td>0.000000</td>\n",
       "      <td>0.000000</td>\n",
       "      <td>133.000000</td>\n",
       "      <td>0.000000</td>\n",
       "      <td>0.000000</td>\n",
       "      <td>1.000000</td>\n",
       "      <td>0.000000</td>\n",
       "      <td>2.000000</td>\n",
       "    </tr>\n",
       "    <tr>\n",
       "      <th>50%</th>\n",
       "      <td>56.000000</td>\n",
       "      <td>1.000000</td>\n",
       "      <td>1.000000</td>\n",
       "      <td>130.000000</td>\n",
       "      <td>240.000000</td>\n",
       "      <td>0.000000</td>\n",
       "      <td>1.000000</td>\n",
       "      <td>152.000000</td>\n",
       "      <td>0.000000</td>\n",
       "      <td>0.800000</td>\n",
       "      <td>1.000000</td>\n",
       "      <td>0.000000</td>\n",
       "      <td>2.000000</td>\n",
       "    </tr>\n",
       "    <tr>\n",
       "      <th>75%</th>\n",
       "      <td>61.000000</td>\n",
       "      <td>1.000000</td>\n",
       "      <td>2.000000</td>\n",
       "      <td>140.000000</td>\n",
       "      <td>275.000000</td>\n",
       "      <td>0.000000</td>\n",
       "      <td>1.000000</td>\n",
       "      <td>167.000000</td>\n",
       "      <td>1.000000</td>\n",
       "      <td>1.800000</td>\n",
       "      <td>2.000000</td>\n",
       "      <td>1.000000</td>\n",
       "      <td>3.000000</td>\n",
       "    </tr>\n",
       "    <tr>\n",
       "      <th>max</th>\n",
       "      <td>77.000000</td>\n",
       "      <td>1.000000</td>\n",
       "      <td>3.000000</td>\n",
       "      <td>200.000000</td>\n",
       "      <td>564.000000</td>\n",
       "      <td>1.000000</td>\n",
       "      <td>2.000000</td>\n",
       "      <td>202.000000</td>\n",
       "      <td>1.000000</td>\n",
       "      <td>6.200000</td>\n",
       "      <td>2.000000</td>\n",
       "      <td>4.000000</td>\n",
       "      <td>3.000000</td>\n",
       "    </tr>\n",
       "  </tbody>\n",
       "</table>\n",
       "</div>"
      ],
      "text/plain": [
       "                age           sex            cp      trestbps          chol  \\\n",
       "count  10000.000000  10000.000000  10000.000000  10000.000000  10000.000000   \n",
       "mean      54.281300      0.699400      0.951600    132.007000    246.730100   \n",
       "std        9.038393      0.458542      1.034294     17.826063     50.907752   \n",
       "min       29.000000      0.000000      0.000000     94.000000    126.000000   \n",
       "25%       47.000000      0.000000      0.000000    120.000000    212.000000   \n",
       "50%       56.000000      1.000000      1.000000    130.000000    240.000000   \n",
       "75%       61.000000      1.000000      2.000000    140.000000    275.000000   \n",
       "max       77.000000      1.000000      3.000000    200.000000    564.000000   \n",
       "\n",
       "                fbs       restecg       thalach         exang       oldpeak  \\\n",
       "count  10000.000000  10000.000000  10000.000000  10000.000000  10000.000000   \n",
       "mean       0.145600      0.526300    149.369700      0.334400      1.061910   \n",
       "std        0.352722      0.523389     23.195746      0.471804      1.157512   \n",
       "min        0.000000      0.000000     71.000000      0.000000      0.000000   \n",
       "25%        0.000000      0.000000    133.000000      0.000000      0.000000   \n",
       "50%        0.000000      1.000000    152.000000      0.000000      0.800000   \n",
       "75%        0.000000      1.000000    167.000000      1.000000      1.800000   \n",
       "max        1.000000      2.000000    202.000000      1.000000      6.200000   \n",
       "\n",
       "              slope            ca          thal  \n",
       "count  10000.000000  10000.000000  10000.000000  \n",
       "mean       1.369400      0.768800      2.330100  \n",
       "std        0.614151      1.043961      0.625918  \n",
       "min        0.000000      0.000000      0.000000  \n",
       "25%        1.000000      0.000000      2.000000  \n",
       "50%        1.000000      0.000000      2.000000  \n",
       "75%        2.000000      1.000000      3.000000  \n",
       "max        2.000000      4.000000      3.000000  "
      ]
     },
     "execution_count": 5,
     "metadata": {},
     "output_type": "execute_result"
    }
   ],
   "source": [
    "db.describe()"
   ]
  },
  {
   "cell_type": "code",
   "execution_count": 142,
   "metadata": {},
   "outputs": [
    {
     "data": {
      "text/html": [
       "<div>\n",
       "<style scoped>\n",
       "    .dataframe tbody tr th:only-of-type {\n",
       "        vertical-align: middle;\n",
       "    }\n",
       "\n",
       "    .dataframe tbody tr th {\n",
       "        vertical-align: top;\n",
       "    }\n",
       "\n",
       "    .dataframe thead th {\n",
       "        text-align: right;\n",
       "    }\n",
       "</style>\n",
       "<table border=\"1\" class=\"dataframe\">\n",
       "  <thead>\n",
       "    <tr style=\"text-align: right;\">\n",
       "      <th></th>\n",
       "      <th>sex</th>\n",
       "      <th>age</th>\n",
       "      <th>name</th>\n",
       "      <th>loc</th>\n",
       "      <th>ssn</th>\n",
       "    </tr>\n",
       "  </thead>\n",
       "  <tbody>\n",
       "    <tr>\n",
       "      <th>0</th>\n",
       "      <td>1.0</td>\n",
       "      <td>66.0</td>\n",
       "      <td>Michael Torres</td>\n",
       "      <td>1669 Jason Mission\\nAndrewsfurt, MA 86213</td>\n",
       "      <td>678-75-2574</td>\n",
       "    </tr>\n",
       "    <tr>\n",
       "      <th>1</th>\n",
       "      <td>0.0</td>\n",
       "      <td>54.0</td>\n",
       "      <td>Sydney Nelson</td>\n",
       "      <td>Unit 7440 Box 8171\\nDPO AE 12481</td>\n",
       "      <td>730-33-3009</td>\n",
       "    </tr>\n",
       "    <tr>\n",
       "      <th>2</th>\n",
       "      <td>1.0</td>\n",
       "      <td>49.0</td>\n",
       "      <td>Samuel Yang</td>\n",
       "      <td>78111 Lewis Crossing\\nSouth Joseph, GU 78223</td>\n",
       "      <td>831-48-4567</td>\n",
       "    </tr>\n",
       "    <tr>\n",
       "      <th>3</th>\n",
       "      <td>0.0</td>\n",
       "      <td>34.0</td>\n",
       "      <td>Sharon Brown</td>\n",
       "      <td>915 Kristina Points\\nKathleenmouth, KS 92956</td>\n",
       "      <td>520-23-3031</td>\n",
       "    </tr>\n",
       "    <tr>\n",
       "      <th>4</th>\n",
       "      <td>0.0</td>\n",
       "      <td>52.0</td>\n",
       "      <td>Lisa Richardson</td>\n",
       "      <td>1490 Taylor Road Apt. 474\\nSouth Patrick, ID 2...</td>\n",
       "      <td>390-43-7852</td>\n",
       "    </tr>\n",
       "  </tbody>\n",
       "</table>\n",
       "</div>"
      ],
      "text/plain": [
       "   sex   age             name  \\\n",
       "0  1.0  66.0   Michael Torres   \n",
       "1  0.0  54.0    Sydney Nelson   \n",
       "2  1.0  49.0      Samuel Yang   \n",
       "3  0.0  34.0     Sharon Brown   \n",
       "4  0.0  52.0  Lisa Richardson   \n",
       "\n",
       "                                                 loc          ssn  \n",
       "0          1669 Jason Mission\\nAndrewsfurt, MA 86213  678-75-2574  \n",
       "1                   Unit 7440 Box 8171\\nDPO AE 12481  730-33-3009  \n",
       "2       78111 Lewis Crossing\\nSouth Joseph, GU 78223  831-48-4567  \n",
       "3       915 Kristina Points\\nKathleenmouth, KS 92956  520-23-3031  \n",
       "4  1490 Taylor Road Apt. 474\\nSouth Patrick, ID 2...  390-43-7852  "
      ]
     },
     "execution_count": 142,
     "metadata": {},
     "output_type": "execute_result"
    }
   ],
   "source": [
    "crossref_db.head()"
   ]
  },
  {
   "cell_type": "code",
   "execution_count": 136,
   "metadata": {},
   "outputs": [
    {
     "data": {
      "image/png": "[encoded data removed]",
      "text/plain": [
       "<Figure size 640x480 with 1 Axes>"
      ]
     },
     "metadata": {},
     "output_type": "display_data"
    }
   ],
   "source": [
    "fig1, ax1 = plt.subplots()\n",
    "ax1.pie(db['sex'].value_counts(), explode=(0,0), labels=['female', 'male'], autopct='%1.1f%%', startangle=90)\n",
    "ax1.axis('equal')\n",
    "plt.title('sex distribution')\n",
    "plt.show()"
   ]
  },
  {
   "cell_type": "code",
   "execution_count": 138,
   "metadata": {},
   "outputs": [
    {
     "data": {
      "image/png": "[encoded data removed]",
      "text/plain": [
       "<Figure size 500x500 with 1 Axes>"
      ]
     },
     "metadata": {},
     "output_type": "display_data"
    }
   ],
   "source": [
    "sns.displot(x='age', data=db, bins=30, kde=True)\n",
    "skewness = str(db[\"age\"].skew())\n",
    "kurtosis = str(db[\"age\"].kurt())\n",
    "plt.legend([skewness, kurtosis], title=(\"skewness and kurtosis\"))\n",
    "plt.title('Age distribution')\n",
    "plt.show()"
   ]
  },
  {
   "cell_type": "markdown",
   "metadata": {},
   "source": [
    "### Parallel Databases\n",
    "Key to the definition of differential privacy is the ability to ask the question \"When querying a database, if I removed someone from the database, would the output of the query be any different?\". In order to check this, we must construct what we term \"parallel databases\" which are simply databases with one entry removed.\n"
   ]
  },
  {
   "cell_type": "code",
   "execution_count": 29,
   "metadata": {},
   "outputs": [],
   "source": [
    "def get_parallel_db(db, remove_index):\n",
    "    return pd.concat((\n",
    "        db.iloc[0:remove_index],\n",
    "        db.iloc[remove_index+1:],\n",
    "    ))\n",
    "\n",
    "# generate list of parallel databases with one row removed\n",
    "def get_parallel_dbs(db):\n",
    "    parallel_dbs = []\n",
    "    for i in range(len(db)):\n",
    "        parallel_dbs.append(\n",
    "            get_parallel_db(db, i)\n",
    "        )\n",
    "\n",
    "    return parallel_dbs\n"
   ]
  },
  {
   "cell_type": "code",
   "execution_count": 30,
   "metadata": {},
   "outputs": [],
   "source": [
    "pdbs = get_parallel_dbs(db)"
   ]
  },
  {
   "cell_type": "markdown",
   "metadata": {},
   "source": [
    "## Part 2 - Evaluating privacy of different queries on the database\n",
    "\n",
    "We evaluate the effectiveness of our differential privacy method by calculating the sensitivity, i.e. the impact a change in the underlying data can have on the result of the query (high numbers = bad)."
   ]
  },
  {
   "cell_type": "code",
   "execution_count": 11,
   "metadata": {},
   "outputs": [],
   "source": [
    "def sensitivity(query):\n",
    "    full_db_result = query(db.to_numpy())\n",
    "    max_distance = 0\n",
    "    for pdb in pdbs:\n",
    "        pdb_result = query(pdb.to_numpy())\n",
    "\n",
    "        db_distance = np.abs(pdb_result - full_db_result)\n",
    "        if (np.max(db_distance) > max_distance):\n",
    "            max_distance = db_distance\n",
    "\n",
    "    return max_distance\n"
   ]
  },
  {
   "cell_type": "code",
   "execution_count": 13,
   "metadata": {},
   "outputs": [
    {
     "name": "stdout",
     "output_type": "stream",
     "text": [
      "Mean sensitivity: 0.002768156738746086\n",
      "Std sensitivity: 0.011431044208023877\n",
      "Sum sensitivity: 950.3999999994412\n"
     ]
    }
   ],
   "source": [
    "queries = {\n",
    "\t'mean': np.mean,\n",
    "\t'std': np.std,\n",
    "\t'sum': np.sum,\n",
    "}\n",
    "\n",
    "for name, query in queries.items():\n",
    "\tprint(f'{name.capitalize()} sensitivity: {sensitivity(query)}')"
   ]
  },
  {
   "cell_type": "markdown",
   "metadata": {},
   "source": [
    "## Part 3 - Differential privacy attack example\n",
    "Here we recover the sex and age of the 100th user in the dataset to show why differential privacy is important (i.e. removing features isn't enough to guarentee privacy)"
   ]
  },
  {
   "cell_type": "code",
   "execution_count": 36,
   "metadata": {},
   "outputs": [
    {
     "name": "stdout",
     "output_type": "stream",
     "text": [
      "age: 43.0, sex: female\n"
     ]
    }
   ],
   "source": [
    "print(f\"age: {db.iloc[100]['age']}, sex: {'male' if db.iloc[100]['sex'] else 'female'}\")"
   ]
  },
  {
   "cell_type": "code",
   "execution_count": 32,
   "metadata": {},
   "outputs": [],
   "source": [
    "pdb = get_parallel_db(db, remove_index=100)"
   ]
  },
  {
   "cell_type": "code",
   "execution_count": 37,
   "metadata": {},
   "outputs": [
    {
     "name": "stdout",
     "output_type": "stream",
     "text": [
      "Recovered age: 43.0, recovered sex: female\n"
     ]
    }
   ],
   "source": [
    "recovered_age = np.sum(db['age']) - np.sum(pdb['age'])\n",
    "recovered_sex = np.sum(db['sex']) - np.sum(pdb['sex'])\n",
    "print(f\"Recovered age: {recovered_age}, recovered sex: {'male' if recovered_sex else 'female'}\")"
   ]
  },
  {
   "cell_type": "code",
   "execution_count": 38,
   "metadata": {},
   "outputs": [
    {
     "name": "stdout",
     "output_type": "stream",
     "text": [
      "Recovered age: 43.00000000000637, recovered sex: female\n"
     ]
    }
   ],
   "source": [
    "# also works with mean\n",
    "recovered_age = (np.mean(db['age']) - np.sum(pdb['age'])/len(db['age']))*len(db['age'])\n",
    "recovered_sex = (np.mean(db['sex']) - np.sum(pdb['sex'])/len(db['sex']))*len(db['sex'])\n",
    "print(f\"Recovered age: {recovered_age}, recovered sex: {'male' if recovered_sex else 'female'}\")"
   ]
  },
  {
   "cell_type": "markdown",
   "metadata": {},
   "source": [
    "### Result\n",
    "We can recover the age and sex of any individual in our dataset just using aggregate statistics. Using just this and maybe one or two other reconstructed features, we can possibly cross reference public census data to get the name and location of this individual."
   ]
  },
  {
   "cell_type": "markdown",
   "metadata": {},
   "source": [
    "## Part 4 - Local differential privacy\n",
    "### Plausible deniability\n",
    "\n",
    "Add randomness to each person's response by giving each person the following instructions:\n",
    "\n",
    "* Flip a coin 2 times.\n",
    "* If the first coin flip is heads, answer honestly\n",
    "* If the first coin flip is tails, answer according to the second coin flip (heads for yes, tails for no)!\n",
    "\n",
    "Thus, each person is now protected with \"plausible deniability.\" As an example, if we ask the question \"have you committed X crime?\" and they answer \"Yes\", then it might because they actually did, or it might be because they are answering according to a random coin flip. Each person has a high degree of protection. Furthermore, we can recover the underlying statistics with some accuracy, as the \"true statistics\" are simply averaged with a 50% probability. Thus, if we collect a bunch of samples and it turns out that 60% of people answer yes, then we know that the TRUE distribution is actually centered around 70%, because 70% averaged with 50% is 60%.\n",
    "\n",
    "However, it should be noted that, especially when we only have a few samples, this comes at the cost of accuracy. The greater the privacy protection (plausible deniability) the less accurate the results."
   ]
  },
  {
   "cell_type": "code",
   "execution_count": 103,
   "metadata": {},
   "outputs": [],
   "source": [
    "def local_privacy_query(column, db, noise=0.5):\n",
    "    # local differential privacy\n",
    "    true_result = db[column].iloc[-1]\n",
    "    true_query_result = np.mean(db[column])\n",
    "\n",
    "    first_coin_flip = np.random.rand(len(db)) < noise\n",
    "    second_coin_flip = np.random.rand(len(db)) < 0.5\n",
    "\n",
    "    augmented_db = db[column] * first_coin_flip + (1 - first_coin_flip) * second_coin_flip\n",
    "    sk_result = augmented_db.mean()\n",
    "    private_query_result = ((sk_result / noise) - 0.5) * noise / (1 - noise)\n",
    "\n",
    "    # try same differential privacy attack using aggregate statistics\n",
    "    pdb = get_parallel_db(db, remove_index=-1)\n",
    "    first_coin_flip = np.random.rand(len(pdb)) < 0.5\n",
    "    second_coin_flip = np.random.rand(len(pdb)) < 0.5\n",
    "\n",
    "    augmented_pdb = pdb[column] * first_coin_flip + (1 - first_coin_flip) * second_coin_flip\n",
    "    sk_parallel_result = augmented_pdb.mean()\n",
    "    private_parallel_query_result = ((sk_parallel_result / noise) - 0.5) * noise / (1 - noise)\n",
    "    recovered = (np.mean(db[column]) - np.sum(augmented_pdb)/len(db[column]))*len(db[column])\n",
    "    return private_query_result, true_query_result, true_result, recovered"
   ]
  },
  {
   "cell_type": "code",
   "execution_count": 108,
   "metadata": {},
   "outputs": [
    {
     "name": "stdout",
     "output_type": "stream",
     "text": [
      "DB size:    10, noise: 0.1, True mean cholestorol: 247.60, Privatized mean cholestorol:    0.500, Cholestorol for last individual: 286.0, Cholestorol recovery attempt: -52.00000000000017\n",
      "DB size:    10, noise: 0.3, True mean cholestorol: 247.60, Privatized mean cholestorol:  180.214, Cholestorol for last individual: 286.0, Cholestorol recovery attempt: -521.0\n",
      "DB size:    10, noise: 0.5, True mean cholestorol: 247.60, Privatized mean cholestorol:  337.500, Cholestorol for last individual: 286.0, Cholestorol recovery attempt: -84.00000000000006\n",
      "DB size:    10, noise: 0.7, True mean cholestorol: 247.60, Privatized mean cholestorol:  661.167, Cholestorol for last individual: 286.0, Cholestorol recovery attempt: 732.9999999999998\n",
      "DB size:    10, noise: 0.9, True mean cholestorol: 247.60, Privatized mean cholestorol: 2223.500, Cholestorol for last individual: 286.0, Cholestorol recovery attempt: 707.9999999999998\n",
      "DB size:   100, noise: 0.1, True mean cholestorol: 237.01, Privatized mean cholestorol:   30.967, Cholestorol for last individual: 197.0, Cholestorol recovery attempt: 317.99999999999784\n",
      "DB size:   100, noise: 0.3, True mean cholestorol: 237.01, Privatized mean cholestorol:  111.314, Cholestorol for last individual: 197.0, Cholestorol recovery attempt: 2897.0\n",
      "DB size:   100, noise: 0.5, True mean cholestorol: 237.01, Privatized mean cholestorol:  213.860, Cholestorol for last individual: 197.0, Cholestorol recovery attempt: 725.0\n",
      "DB size:   100, noise: 0.7, True mean cholestorol: 237.01, Privatized mean cholestorol:  565.600, Cholestorol for last individual: 197.0, Cholestorol recovery attempt: 153.0000000000001\n",
      "DB size:   100, noise: 0.9, True mean cholestorol: 237.01, Privatized mean cholestorol: 2199.700, Cholestorol for last individual: 197.0, Cholestorol recovery attempt: -610.0000000000023\n",
      "DB size:  1000, noise: 0.1, True mean cholestorol: 246.19, Privatized mean cholestorol:   29.037, Cholestorol for last individual: 254.0, Cholestorol recovery attempt: 4472.000000000008\n",
      "DB size:  1000, noise: 0.3, True mean cholestorol: 246.19, Privatized mean cholestorol:  117.833, Cholestorol for last individual: 254.0, Cholestorol recovery attempt: 338.99999999999864\n",
      "DB size:  1000, noise: 0.5, True mean cholestorol: 246.19, Privatized mean cholestorol:  260.288, Cholestorol for last individual: 254.0, Cholestorol recovery attempt: -8838.999999999998\n",
      "DB size:  1000, noise: 0.7, True mean cholestorol: 246.19, Privatized mean cholestorol:  545.780, Cholestorol for last individual: 254.0, Cholestorol recovery attempt: 6340.000000000004\n",
      "DB size:  1000, noise: 0.9, True mean cholestorol: 246.19, Privatized mean cholestorol: 2224.100, Cholestorol for last individual: 254.0, Cholestorol recovery attempt: 7318.000000000012\n",
      "DB size: 10000, noise: 0.1, True mean cholestorol: 246.73, Privatized mean cholestorol:   28.352, Cholestorol for last individual: 303.0, Cholestorol recovery attempt: -9679.000000000144\n",
      "DB size: 10000, noise: 0.3, True mean cholestorol: 246.73, Privatized mean cholestorol:  108.320, Cholestorol for last individual: 303.0, Cholestorol recovery attempt: -20014.000000000182\n",
      "DB size: 10000, noise: 0.5, True mean cholestorol: 246.73, Privatized mean cholestorol:  245.378, Cholestorol for last individual: 303.0, Cholestorol recovery attempt: -28164.000000000156\n",
      "DB size: 10000, noise: 0.7, True mean cholestorol: 246.73, Privatized mean cholestorol:  570.867, Cholestorol for last individual: 303.0, Cholestorol recovery attempt: 8640.999999999793\n",
      "DB size: 10000, noise: 0.9, True mean cholestorol: 246.73, Privatized mean cholestorol: 2215.151, Cholestorol for last individual: 303.0, Cholestorol recovery attempt: -28646.999999999993\n"
     ]
    }
   ],
   "source": [
    "for size in [10, 100, 1000, 10000]:\n",
    "\tfor noise in np.arange(0.1, 1.0, 0.2):\n",
    "\t\tprivate_query_result, true_query_result, true_result, recovered = local_privacy_query('chol', db.iloc[:size], noise=noise)\n",
    "\t\tprint(f\"DB size: {size:>5}, noise: {noise:.1f}, True mean cholestorol: {true_query_result:.2f}, Privatized mean cholestorol: {private_query_result:>8.3f}, Cholestorol for last individual: {true_result}, Cholestorol recovery attempt: {recovered}\")"
   ]
  },
  {
   "cell_type": "markdown",
   "metadata": {},
   "source": [
    "### Results:\n",
    "We can see that adding local noise is effective in preventing the same sort of differential privacy attack we saw before, however this can come at a huge cost in accuracy on aggregate statistics for the dataset, depending on the size of the dataset and the amount of noise introduced. Based off the table however, we can deduce that the optimal threshold of noise is generally 0.5, and the difference in accuracy decreases as the size of the dataset increases."
   ]
  },
  {
   "cell_type": "markdown",
   "metadata": {},
   "source": [
    "## Part 5 - Global differential privacy\n",
    "The previous method of adding noise was called \"Local Differential Privacy\" because we added noise to each datapoint individually. This is necessary for some situations wherein the data is SO sensitive that individuals do not trust noise to be added later. However as shown, it comes at a very high cost in terms of accuracy depending on sample size and the amount of noise added.\n",
    "\n",
    "Alternatively we can add noise AFTER the data has been aggregated by a function. This kind of noise can allow for similar levels of protection with a lower affect on accuracy. Generally in this case, participants must be able to trust that no one looked at multiple datapoints before the aggregation took place. This is likely not possible with our platform since we are providing raw data streams, however it is still useful to explore in case we decide to offer data analytics in addition to raw data.\n",
    "\n",
    "### Terms\n",
    "**Epsilon Zero**: If a query satisfied this inequality where epsilon was set to 0, then that would mean that the query for all parallel databases outputed the exact same value as the full database. \n",
    "\n",
    "**Epsilon One**: If a query satisfied this inequality with epsilon 1, then the maximum distance between all queries would be 1, i.e. the maximum distance between the two random distributions M(x) and M(y) is 1 (because all these queries have some amount of randomness in them).\n",
    "\n",
    "**Delta** is basically the probability that epsilon breaks. \n",
    "\n",
    "## Adding noise for global differential privacy\n",
    "This is about adding noise to the output of our query so that it satisfies a certain epsilon-delta differential privacy threshold.\n",
    "\n",
    "There are two kinds of noise we can add - Gaussian Noise or Laplacian Noise. For this experiment, we will focus on Laplacian noise since it is generally better than gaussian noise (gaussian noise requires relaxing the differential privacy definition).\n",
    "\n",
    "We will focus on tuning the Laplacian noise to allow for the greatest privacy. So, how much noise should we add?\n",
    "\n",
    "The amount of noise necessary to add to the output of a query is a function of four things:\n",
    "1. the type of noise (Gaussian/Laplacian)\n",
    "2. the sensitivity of the query/function\n",
    "3. the desired epsilon (ε)\n",
    "4. the desired delta (δ)\n",
    "\n",
    "Laplacian noise is increased/decreased according to a \"scale\" parameter beta. We choose \"beta\" based on the following formula.\n",
    "\n",
    "beta = sensitivity(query) / epsilon\n",
    "\n",
    "In other words, if we set beta to be this value, then we know that we will have a privacy leakage of <= epsilon. Furthermore, the nice thing about Laplace is that it guarantees this with delta == 0."
   ]
  },
  {
   "cell_type": "code",
   "execution_count": 129,
   "metadata": {},
   "outputs": [],
   "source": [
    "epsilon = 0.1\n",
    "# adds just the right amount of noise such that the query satisfies an epsilon constraint. \n",
    "def laplacian_mechanism(db, query, sensitivity):\n",
    "    beta = sensitivity / epsilon\n",
    "    noise = np.random.laplace(0, beta, 1)\n",
    "\n",
    "    return (query(db) + noise)[0]\n"
   ]
  },
  {
   "cell_type": "code",
   "execution_count": 130,
   "metadata": {},
   "outputs": [
    {
     "data": {
      "text/plain": [
       "542848.0160800221"
      ]
     },
     "execution_count": 130,
     "metadata": {},
     "output_type": "execute_result"
    }
   ],
   "source": [
    "laplacian_mechanism(db['age'], np.sum, 1)"
   ]
  },
  {
   "cell_type": "code",
   "execution_count": 131,
   "metadata": {},
   "outputs": [
    {
     "data": {
      "text/plain": [
       "246.65924782415632"
      ]
     },
     "execution_count": 131,
     "metadata": {},
     "output_type": "execute_result"
    }
   ],
   "source": [
    "laplacian_mechanism(db['chol'], np.mean, 1/100)"
   ]
  },
  {
   "cell_type": "markdown",
   "metadata": {},
   "source": [
    "# Conclusion\n",
    "In this experiment we explored different strategies for securing the privacy of patient's data on the HealthifyYou platform using simulated heart disease data. \n",
    "\n",
    "In part 3, we showed that it is possible to reconstruct the data for any user when there isn't any differential privacy mechanism.\n",
    "\n",
    "Next in part 4, we explored local differential privacy, where noise is added randomly to every data point. After running this part, we showed that using a noise threshold of 0.5 is optimal for allowing close aggregate stastics (i.e. the performance of a model trained on the noisy data will not degrade too much), while still ensuring that we aren't able to reconstruct the data for any particular patient. Unfortunately, we also determined that the accuracy of aggregate statistics on the noisy data largely relies on the amount of data too, such that aggregate statistics on a small sample of the noisy dataset is significantly far off the true aggregate.\n",
    "\n",
    "Lastly in part 5, we experimented with global differential privacy, which is an important concept since it allows for more accurate differential privacy, however it would not fit with our platform since we are providing raw data streams to customers, thus adding noise to queries is effectively meaningless.\n",
    "\n",
    "### Outcome:\n",
    "**Use local differential privacy with a noise threshold of 0.5**"
   ]
  }
 ],
 "metadata": {
  "kernelspec": {
   "display_name": "Python 3.8.13 ('appl_ds')",
   "language": "python",
   "name": "python3"
  },
  "language_info": {
   "codemirror_mode": {
    "name": "ipython",
    "version": 3
   },
   "file_extension": ".py",
   "mimetype": "text/x-python",
   "name": "python",
   "nbconvert_exporter": "python",
   "pygments_lexer": "ipython3",
   "version": "3.8.13"
  },
  "orig_nbformat": 4,
  "vscode": {
   "interpreter": {
    "hash": "6aa849b146a2062829c27d61d3ba6974c8cd304c885f3aed4ca1528ee9815bd1"
   }
  }
 },
 "nbformat": 4,
 "nbformat_minor": 2
}
